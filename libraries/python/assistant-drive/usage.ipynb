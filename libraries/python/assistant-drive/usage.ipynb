{
 "cells": [
  {
   "cell_type": "code",
   "execution_count": null,
   "metadata": {},
   "outputs": [],
   "source": [
    "%reload_ext autoreload\n",
    "%autoreload 2\n",
    "\n",
    "from assistant_drive import Drive, DriveConfig\n",
    "from io import BytesIO  # Import BytesIO\n",
    "\n",
    "session_id=\"demo\"\n",
    "drive = Drive(DriveConfig(root=f\".data/drive/{session_id}\"))\n",
    "\n",
    "print(list(drive.list()))\n"
   ]
  },
  {
   "cell_type": "markdown",
   "metadata": {},
   "source": [
    "# Basic Usage"
   ]
  },
  {
   "cell_type": "code",
   "execution_count": null,
   "metadata": {},
   "outputs": [],
   "source": [
    "# Create BinaryIO from text.\n",
    "file_content = BytesIO(b\"Hello, World!\")  # Convert byte string to BytesIO\n",
    "metadata = drive.write(file_content, \"test.txt\")\n",
    "print(metadata)"
   ]
  }
 ],
 "metadata": {
  "kernelspec": {
   "display_name": ".venv",
   "language": "python",
   "name": "python3"
  },
  "language_info": {
   "codemirror_mode": {
    "name": "ipython",
    "version": 3
   },
   "file_extension": ".py",
   "mimetype": "text/x-python",
   "name": "python",
   "nbconvert_exporter": "python",
   "pygments_lexer": "ipython3",
   "version": "3.11.10"
  }
 },
 "nbformat": 4,
 "nbformat_minor": 2
}
