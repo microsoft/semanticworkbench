{
 "cells": [
  {
   "cell_type": "code",
   "execution_count": null,
   "metadata": {},
   "outputs": [],
   "source": [
    "%reload_ext autoreload\n",
    "%autoreload 2\n",
    "\n",
    "from assistant_drive import DriveConfig, Drive\n",
    "from context import Context\n",
    "from io import BytesIO  # Import BytesIO\n",
    "\n",
    "context: Context = Context(session_id=\"demo\")\n",
    "config = DriveConfig(context=context)\n",
    "drive = Drive(config)\n",
    "\n",
    "print(list(drive.list()))\n",
    "\n",
    "# Create BinaryIO from text.\n",
    "file_content = BytesIO(b\"Hello, World!\")  # Convert byte string to BytesIO\n",
    "metadata = drive.add_bytes(file_content, \"test.txt\")\n",
    "print(metadata)\n",
    "\n"
   ]
  }
 ],
 "metadata": {
  "kernelspec": {
   "display_name": ".venv",
   "language": "python",
   "name": "python3"
  },
  "language_info": {
   "codemirror_mode": {
    "name": "ipython",
    "version": 3
   },
   "file_extension": ".py",
   "mimetype": "text/x-python",
   "name": "python",
   "nbconvert_exporter": "python",
   "pygments_lexer": "ipython3",
   "version": "3.11.10"
  }
 },
 "nbformat": 4,
 "nbformat_minor": 2
}
